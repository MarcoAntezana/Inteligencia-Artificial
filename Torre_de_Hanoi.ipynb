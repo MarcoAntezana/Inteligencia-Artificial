{
  "cells": [
    {
      "cell_type": "markdown",
      "metadata": {
        "id": "view-in-github",
        "colab_type": "text"
      },
      "source": [
        "<a href=\"https://colab.research.google.com/github/MarcoAntezana/Inteligencia-Artificial/blob/main/Torre_de_Hanoi.ipynb\" target=\"_parent\"><img src=\"https://colab.research.google.com/assets/colab-badge.svg\" alt=\"Open In Colab\"/></a>"
      ]
    },
    {
      "cell_type": "code",
      "source": [
        "class Pila:\n",
        "    def __init__(self):\n",
        "        self.items = []\n",
        "        self.puntero = 0\n",
        "    \n",
        "    def apilar(self, x):\n",
        "        self.items.insert(self.puntero, x)\n",
        "        self.puntero = self.puntero + 1\n",
        "    def desapilar(self):\n",
        "        try:\n",
        "            self.puntero = self.puntero-1\n",
        "            copiaItems = self.items[self.puntero]\n",
        "            self.items[self.puntero] = 0\n",
        "            return copiaItems\n",
        "        except:\n",
        "            print(\"la pila esta vacia\")\n",
        "    def es_vacia(self):\n",
        "        return self.items==[]\n",
        "    "
      ],
      "metadata": {
        "id": "-k6M01GJfbup"
      },
      "execution_count": null,
      "outputs": []
    },
    {
      "cell_type": "code",
      "source": [
        "import os\n",
        "import time\n",
        "from time import sleep\n",
        "def crear_discos(n):#crea la matriz\n",
        "    torre=[[]]\n",
        "    copia_n = n\n",
        "\n",
        "    for i in range (2*n + 3):\n",
        "        if i== (2*n+3) // 2:\n",
        "            torre[0].append(\"|\")#representa posicion 0 matriz\n",
        "        else:\n",
        "            torre[0].append(\" \")\n",
        "    for i in range(1,n+1):#dibuja discos\n",
        "        torre.append([])\n",
        "        for j in range(2*n+3):\n",
        "            if j < copia_n-1 or j > (2*i+copia_n+1):\n",
        "                torre[i].append(\" \")\n",
        "            elif j == copia_n-1:\n",
        "                torre[i].append(\"[\")\n",
        "            elif j == (2*i+copia_n+1):\n",
        "                torre[i].append(\"]\")\n",
        "            else:\n",
        "                torre[i].append(\"=\")\n",
        "        copia_n -=1\n",
        "    return torre\n",
        "\n",
        "\n",
        "def hanoi(n, origen, auxiliar, destino):\n",
        "    if n ==1:\n",
        "        mover_disco(origen-1, destino-1)\n",
        "    else:\n",
        "        hanoi(n-1, origen, destino, auxiliar)\n",
        "        mover_disco(origen- 1, destino- 1)\n",
        "        hanoi(n-1, auxiliar, origen, destino)\n",
        "\n",
        "def mover_disco(origen,destino):\n",
        "    pintar_torre()\n",
        "    dato = pilas[origen].desapilar()\n",
        "    pilas[destino].apilar(dato)\n",
        "    time.sleep(1)\n",
        "    print()\n",
        "\n",
        "def pintar_torre():\n",
        "    os.system(\"clear\")\n",
        "    for i in range(n, -1, -1):\n",
        "        for j in range(3):\n",
        "            Dibujar_discos(pilas[j].items[i])\n",
        "        print()\n",
        "\n",
        "def Dibujar_discos(nroDiscos):\n",
        "    for i in torre[nroDiscos]:\n",
        "        print(i,end =\" \")\n",
        "    \n",
        "def llenar_pilas(n):\n",
        "    for i in range(n, -1 , -1):\n",
        "        pilas[0].apilar(i)\n",
        "        pilas[1].apilar(0)\n",
        "        pilas[2].apilar(0)\n",
        "    pilas[0].puntero= n\n",
        "    pilas[1].puntero= 0\n",
        "    pilas[2].puntero= 0\n",
        "\n",
        "\n",
        "n=int(input(\"Cantidad de discos: \"))\n",
        "torre= crear_discos(n)\n",
        "pilas = [Pila(), Pila(), Pila()]\n",
        "llenar_pilas(n)\n",
        "hanoi(n, 1 , 2, 3)\n",
        "pintar_torre()\n"
      ],
      "metadata": {
        "id": "alIB7ug0eQXQ"
      },
      "execution_count": null,
      "outputs": []
    }
  ],
  "metadata": {
    "colab": {
      "collapsed_sections": [],
      "provenance": [],
      "include_colab_link": true
    },
    "kernelspec": {
      "display_name": "Python 3",
      "name": "python3"
    }
  },
  "nbformat": 4,
  "nbformat_minor": 0
}