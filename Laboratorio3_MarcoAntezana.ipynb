{
  "cells": [
    {
      "cell_type": "code",
      "execution_count": 4,
      "metadata": {
        "id": "_QMIWgcnWtkN"
      },
      "outputs": [],
      "source": [
        "# datos = estado\n",
        "class Nodo:\n",
        "    def __init__(self, datos, hijo=None):\n",
        "        self.datos = datos\n",
        "        self.hijos = []\n",
        "        self.padre = None\n",
        "        self.costo = None\n",
        "        self.set_hijo(hijo)\n",
        "        \n",
        "    def set_hijo(self, hijo):\n",
        "        if (hijo is not None):\n",
        "            self.hijos.append(hijo)\n",
        "            if self.hijos is not None:\n",
        "                for h in self.hijos:\n",
        "                    h.padre = self\n",
        "                \n",
        "    def get_hijos(self):\n",
        "        return self.hijos\n",
        "    \n",
        "    def set_padre(self, padre):\n",
        "        self.padre = padre\n",
        "        \n",
        "    def get_padre(self):\n",
        "        return self.padre\n",
        "\n",
        "    def set_datos(self, datos):\n",
        "        self.datos = datos\n",
        "    \n",
        "    def get_datos(self):\n",
        "        return self.datos\n",
        "    \n",
        "    def set_costo(self, costo):\n",
        "        self.costo = costo\n",
        "        \n",
        "    def get_costo(self):\n",
        "        return self.costo\n",
        "    \n",
        "    def equal(self, nodo):\n",
        "        if self.get_datos() == nodo.get_datos():\n",
        "            return True\n",
        "        else:\n",
        "            return False\n",
        "    \n",
        "    def en_lista(self, lista_nodos):\n",
        "        enlistado = False\n",
        "        for n in lista_nodos:\n",
        "            if self.equal(n):\n",
        "                enlistado = True\n",
        "        return enlistado\n",
        "    \n",
        "    def __str__(self):\n",
        "        return str(self.get_datos())\n",
        "[4]\n",
        "def bpa(estado_inicio, estado_solucion):\n",
        "    resuelto = False\n",
        "    nodos_visitados = []\n",
        "    nodos_frontera = []\n",
        "    nodo_inicio = Nodo(estado_inicio)\n",
        "    nodos_frontera.append(nodo_inicio)\n",
        "    \n",
        "    while resuelto == False and len(nodos_frontera) != 0:\n",
        "        nodo_actual = nodos_frontera.pop(0) #FIFO - cola\n",
        "        #nodo_actual = nodos_frontera.pop() #LIFO - pila\n",
        "        nodos_visitados.append(nodo_actual)\n",
        "        if nodo_actual.get_datos() == estado_solucion:\n",
        "            resuelto = True\n",
        "            return nodo_actual\n",
        "        else:\n",
        "            for i in range(len(estado_inicio)-1):\n",
        "                for j in range(len(estado_inicio)-1): \n",
        "                    hijo_datos = nodo_actual.get_datos().copy()    \n",
        "                    temp = hijo_datos[j]\n",
        "                    hijo_datos[j] = hijo_datos[j+1]\n",
        "                    hijo_datos[j+1] = temp\n",
        "                    hijo = Nodo(hijo_datos)\n",
        "                    #print(f'hijo {j+1}',hijo_datos)\n",
        "                    if not hijo.en_lista(nodos_visitados) and not hijo.en_lista(nodos_frontera):\n",
        "                        nodo_actual.set_hijo(hijo)\n",
        "                        nodos_frontera.append(hijo)\n"
      ]
    },
    {
      "cell_type": "code",
      "execution_count": 5,
      "metadata": {
        "colab": {
          "base_uri": "https://localhost:8080/"
        },
        "id": "meHuB3t_W0V-",
        "outputId": "381dc0a3-7363-4311-fda9-19377504e904"
      },
      "outputs": [
        {
          "ename": "KeyboardInterrupt",
          "evalue": "",
          "output_type": "error",
          "traceback": [
            "\u001b[1;31m---------------------------------------------------------------------------\u001b[0m",
            "\u001b[1;31mKeyboardInterrupt\u001b[0m                         Traceback (most recent call last)",
            "Cell \u001b[1;32mIn [5], line 6\u001b[0m\n\u001b[0;32m      4\u001b[0m solucion \u001b[39m=\u001b[39m [\u001b[39m1\u001b[39m, \u001b[39m2\u001b[39m, \u001b[39m3\u001b[39m, \u001b[39m4\u001b[39m, \u001b[39m5\u001b[39m, \u001b[39m6\u001b[39m, \u001b[39m7\u001b[39m]\n\u001b[0;32m      5\u001b[0m start \u001b[39m=\u001b[39m time\u001b[39m.\u001b[39mtime()\n\u001b[1;32m----> 6\u001b[0m nodo_solucion \u001b[39m=\u001b[39m bpa(estado_inicial, solucion)\n\u001b[0;32m      7\u001b[0m end \u001b[39m=\u001b[39mtime\u001b[39m.\u001b[39mtime()\n\u001b[0;32m      8\u001b[0m \u001b[39mprint\u001b[39m(\u001b[39m'\u001b[39m\u001b[39mTiempo de ejecucion : \u001b[39m\u001b[39m'\u001b[39m,end\u001b[39m-\u001b[39mstart, \u001b[39m'\u001b[39m\u001b[39mseg.\u001b[39m\u001b[39m'\u001b[39m,\u001b[39m'\u001b[39m\u001b[39m\\n\u001b[39;00m\u001b[39m'\u001b[39m)\n",
            "Cell \u001b[1;32mIn [4], line 77\u001b[0m, in \u001b[0;36mbpa\u001b[1;34m(estado_inicio, estado_solucion)\u001b[0m\n\u001b[0;32m     75\u001b[0m hijo \u001b[39m=\u001b[39m Nodo(hijo_datos)\n\u001b[0;32m     76\u001b[0m \u001b[39m#print(f'hijo {j+1}',hijo_datos)\u001b[39;00m\n\u001b[1;32m---> 77\u001b[0m \u001b[39mif\u001b[39;00m \u001b[39mnot\u001b[39;00m hijo\u001b[39m.\u001b[39;49men_lista(nodos_visitados) \u001b[39mand\u001b[39;00m \u001b[39mnot\u001b[39;00m hijo\u001b[39m.\u001b[39men_lista(nodos_frontera):\n\u001b[0;32m     78\u001b[0m     nodo_actual\u001b[39m.\u001b[39mset_hijo(hijo)\n\u001b[0;32m     79\u001b[0m     nodos_frontera\u001b[39m.\u001b[39mappend(hijo)\n",
            "Cell \u001b[1;32mIn [4], line 47\u001b[0m, in \u001b[0;36mNodo.en_lista\u001b[1;34m(self, lista_nodos)\u001b[0m\n\u001b[0;32m     45\u001b[0m enlistado \u001b[39m=\u001b[39m \u001b[39mFalse\u001b[39;00m\n\u001b[0;32m     46\u001b[0m \u001b[39mfor\u001b[39;00m n \u001b[39min\u001b[39;00m lista_nodos:\n\u001b[1;32m---> 47\u001b[0m     \u001b[39mif\u001b[39;00m \u001b[39mself\u001b[39;49m\u001b[39m.\u001b[39;49mequal(n):\n\u001b[0;32m     48\u001b[0m         enlistado \u001b[39m=\u001b[39m \u001b[39mTrue\u001b[39;00m\n\u001b[0;32m     49\u001b[0m \u001b[39mreturn\u001b[39;00m enlistado\n",
            "\u001b[1;31mKeyboardInterrupt\u001b[0m: "
          ]
        }
      ],
      "source": [
        "import time\n",
        "if __name__ == \"__main__\":\n",
        "    estado_inicial = [7, 6, 5, 4, 3, 2, 1]\n",
        "    solucion = [1, 2, 3, 4, 5, 6, 7]\n",
        "    start = time.time()\n",
        "    nodo_solucion = bpa(estado_inicial, solucion)\n",
        "    end =time.time()\n",
        "    print('Tiempo de ejecucion : ',end-start, 'seg.','\\n')\n",
        "    # mostrar resultado\n",
        "    resultado = []\n",
        "    nodo_actual = nodo_solucion\n",
        "    while nodo_actual.get_padre() is not None:\n",
        "        resultado.append(nodo_actual.get_datos())\n",
        "        nodo_actual = nodo_actual.get_padre()\n",
        "\n",
        "    resultado.append(estado_inicial)\n",
        "    resultado.reverse()\n",
        "    print(\"*****\"*10)\n",
        "    print('Movimientos : \\n')\n",
        "    for i in range(len(resultado)):\n",
        "      print(resultado[i])"
      ]
    }
  ],
  "metadata": {
    "colab": {
      "provenance": []
    },
    "kernelspec": {
      "display_name": "Python 3.9.13 64-bit",
      "language": "python",
      "name": "python3"
    },
    "language_info": {
      "codemirror_mode": {
        "name": "ipython",
        "version": 3
      },
      "file_extension": ".py",
      "mimetype": "text/x-python",
      "name": "python",
      "nbconvert_exporter": "python",
      "pygments_lexer": "ipython3",
      "version": "3.9.13"
    },
    "vscode": {
      "interpreter": {
        "hash": "cf92aa13fedf815d5c8dd192b8d835913fde3e8bc926b2a0ad6cc74ef2ba3ca2"
      }
    }
  },
  "nbformat": 4,
  "nbformat_minor": 0
}
